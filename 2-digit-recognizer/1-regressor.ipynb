{
 "cells": [
  {
   "cell_type": "code",
   "execution_count": 1,
   "metadata": {},
   "outputs": [],
   "source": [
    "import os\n",
    "import numpy as np\n",
    "import pandas as pd\n",
    "import matplotlib.pyplot as plt"
   ]
  },
  {
   "cell_type": "code",
   "execution_count": 2,
   "metadata": {},
   "outputs": [
    {
     "name": "stdout",
     "output_type": "stream",
     "text": [
      "<class 'pandas.core.frame.DataFrame'>\n",
      "RangeIndex: 42000 entries, 0 to 41999\n",
      "Columns: 785 entries, label to pixel783\n",
      "dtypes: int64(785)\n",
      "memory usage: 251.5 MB\n"
     ]
    }
   ],
   "source": [
    "df_train = pd.read_csv(r'train.csv')\n",
    "df_train.info()"
   ]
  },
  {
   "cell_type": "code",
   "execution_count": 3,
   "metadata": {},
   "outputs": [],
   "source": [
    "x_input = df_train.drop(columns=['label']).values\n",
    "x_aux = x_input.reshape(-1, 28, 28)\n",
    "v = np.sum(x_aux, axis=1)\n",
    "h = np.sum(x_aux, axis=2)"
   ]
  },
  {
   "cell_type": "code",
   "execution_count": 4,
   "metadata": {},
   "outputs": [],
   "source": [
    "from sklearn.preprocessing import StandardScaler\n",
    "v_scaler = StandardScaler()\n",
    "v_scaled = v_scaler.fit_transform(v)\n",
    "\n",
    "h_scaler = StandardScaler()\n",
    "h_scaled = h_scaler.fit_transform(h)"
   ]
  },
  {
   "cell_type": "code",
   "execution_count": 5,
   "metadata": {},
   "outputs": [],
   "source": [
    "from sklearn.preprocessing import MinMaxScaler\n",
    "mm_scaler = MinMaxScaler()\n",
    "x_scaled = mm_scaler.fit_transform(x_input)"
   ]
  },
  {
   "cell_type": "code",
   "execution_count": 10,
   "metadata": {},
   "outputs": [],
   "source": [
    "x = np.hstack([x_scaled, v_scaled, h_scaled])\n",
    "y = pd.get_dummies(df_train['label'])"
   ]
  },
  {
   "cell_type": "code",
   "execution_count": 11,
   "metadata": {},
   "outputs": [],
   "source": [
    "from sklearn.model_selection import train_test_split\n",
    "x_train, x_test, y_train, y_test = train_test_split(x, y, test_size=0.2)"
   ]
  },
  {
   "cell_type": "code",
   "execution_count": 12,
   "metadata": {},
   "outputs": [],
   "source": [
    "from keras.models import Sequential\n",
    "from keras.layers.core import Dense, Dropout\n",
    "\n",
    "model = Sequential()\n",
    "\n",
    "model.add(Dense(128, activation='tanh', input_shape=(x_train.shape[1], ), kernel_initializer='he_uniform'))\n",
    "model.add(Dropout(0.2))\n",
    "model.add(Dense(64, activation='tanh', kernel_initializer='he_uniform'))\n",
    "model.add(Dropout(0.2))\n",
    "model.add(Dense(64, activation='tanh', kernel_initializer='he_uniform'))\n",
    "model.add(Dense(10, activation='softmax'))\n",
    "\n",
    "model.compile(optimizer='adam', loss='categorical_crossentropy', metrics=['accuracy', 'categorical_accuracy'])"
   ]
  },
  {
   "cell_type": "code",
   "execution_count": 13,
   "metadata": {},
   "outputs": [
    {
     "name": "stdout",
     "output_type": "stream",
     "text": [
      "Epoch 1/20\n",
      "2100/2100 [==============================] - 7s 3ms/step - loss: 0.3651 - accuracy: 0.8904 - categorical_accuracy: 0.8904 - val_loss: 0.2262 - val_accuracy: 0.9351 - val_categorical_accuracy: 0.9351\n",
      "Epoch 2/20\n",
      "2100/2100 [==============================] - 6s 3ms/step - loss: 0.2163 - accuracy: 0.9349 - categorical_accuracy: 0.9349 - val_loss: 0.1758 - val_accuracy: 0.9494 - val_categorical_accuracy: 0.9494\n",
      "Epoch 3/20\n",
      "2100/2100 [==============================] - 6s 3ms/step - loss: 0.1807 - accuracy: 0.9455 - categorical_accuracy: 0.9455 - val_loss: 0.1699 - val_accuracy: 0.9499 - val_categorical_accuracy: 0.9499\n",
      "Epoch 4/20\n",
      "2100/2100 [==============================] - 6s 3ms/step - loss: 0.1584 - accuracy: 0.9514 - categorical_accuracy: 0.9514 - val_loss: 0.1422 - val_accuracy: 0.9588 - val_categorical_accuracy: 0.9588\n",
      "Epoch 5/20\n",
      "2100/2100 [==============================] - 6s 3ms/step - loss: 0.1396 - accuracy: 0.9574 - categorical_accuracy: 0.9574 - val_loss: 0.1298 - val_accuracy: 0.9630 - val_categorical_accuracy: 0.9630\n",
      "Epoch 6/20\n",
      "2100/2100 [==============================] - 6s 3ms/step - loss: 0.1252 - accuracy: 0.9614 - categorical_accuracy: 0.9614 - val_loss: 0.1315 - val_accuracy: 0.9638 - val_categorical_accuracy: 0.9638\n",
      "Epoch 7/20\n",
      "2100/2100 [==============================] - 6s 3ms/step - loss: 0.1146 - accuracy: 0.9654 - categorical_accuracy: 0.9654 - val_loss: 0.1254 - val_accuracy: 0.9642 - val_categorical_accuracy: 0.9642\n",
      "Epoch 8/20\n",
      "2100/2100 [==============================] - 6s 3ms/step - loss: 0.1097 - accuracy: 0.9647 - categorical_accuracy: 0.9647 - val_loss: 0.1289 - val_accuracy: 0.9637 - val_categorical_accuracy: 0.9637\n",
      "Epoch 9/20\n",
      "2100/2100 [==============================] - 7s 3ms/step - loss: 0.1037 - accuracy: 0.9682 - categorical_accuracy: 0.9682 - val_loss: 0.1257 - val_accuracy: 0.9655 - val_categorical_accuracy: 0.9655\n",
      "Epoch 10/20\n",
      "2100/2100 [==============================] - 6s 3ms/step - loss: 0.0954 - accuracy: 0.9696 - categorical_accuracy: 0.9696 - val_loss: 0.1178 - val_accuracy: 0.9676 - val_categorical_accuracy: 0.9676\n",
      "Epoch 11/20\n",
      "2100/2100 [==============================] - 7s 3ms/step - loss: 0.0929 - accuracy: 0.9708 - categorical_accuracy: 0.9708 - val_loss: 0.1193 - val_accuracy: 0.9677 - val_categorical_accuracy: 0.9677\n",
      "Epoch 12/20\n",
      "2100/2100 [==============================] - 6s 3ms/step - loss: 0.0923 - accuracy: 0.9711 - categorical_accuracy: 0.9711 - val_loss: 0.1209 - val_accuracy: 0.9664 - val_categorical_accuracy: 0.9664\n",
      "Epoch 13/20\n",
      "2100/2100 [==============================] - 6s 3ms/step - loss: 0.0797 - accuracy: 0.9744 - categorical_accuracy: 0.9744 - val_loss: 0.1215 - val_accuracy: 0.9667 - val_categorical_accuracy: 0.9667\n",
      "Epoch 14/20\n",
      "2100/2100 [==============================] - 7s 3ms/step - loss: 0.0825 - accuracy: 0.9741 - categorical_accuracy: 0.9741 - val_loss: 0.1159 - val_accuracy: 0.9671 - val_categorical_accuracy: 0.9671\n",
      "Epoch 15/20\n",
      "2100/2100 [==============================] - 7s 3ms/step - loss: 0.0748 - accuracy: 0.9765 - categorical_accuracy: 0.9765 - val_loss: 0.1224 - val_accuracy: 0.9677 - val_categorical_accuracy: 0.9677\n",
      "Epoch 16/20\n",
      "2100/2100 [==============================] - 6s 3ms/step - loss: 0.0734 - accuracy: 0.9774 - categorical_accuracy: 0.9774 - val_loss: 0.1216 - val_accuracy: 0.9680 - val_categorical_accuracy: 0.9680\n",
      "Epoch 17/20\n",
      "2100/2100 [==============================] - 7s 3ms/step - loss: 0.0740 - accuracy: 0.9762 - categorical_accuracy: 0.9762 - val_loss: 0.1199 - val_accuracy: 0.9707 - val_categorical_accuracy: 0.9707\n",
      "Epoch 18/20\n",
      "2100/2100 [==============================] - 7s 3ms/step - loss: 0.0707 - accuracy: 0.9779 - categorical_accuracy: 0.9779 - val_loss: 0.1141 - val_accuracy: 0.9706 - val_categorical_accuracy: 0.9706\n",
      "Epoch 19/20\n",
      "2100/2100 [==============================] - 7s 3ms/step - loss: 0.0672 - accuracy: 0.9780 - categorical_accuracy: 0.9780 - val_loss: 0.1143 - val_accuracy: 0.9715 - val_categorical_accuracy: 0.9715\n",
      "Epoch 20/20\n",
      "2100/2100 [==============================] - 7s 3ms/step - loss: 0.0708 - accuracy: 0.9784 - categorical_accuracy: 0.9784 - val_loss: 0.1152 - val_accuracy: 0.9708 - val_categorical_accuracy: 0.9708\n"
     ]
    },
    {
     "data": {
      "text/plain": [
       "<keras.callbacks.History at 0x7f3fcf4a1fd0>"
      ]
     },
     "execution_count": 13,
     "metadata": {},
     "output_type": "execute_result"
    }
   ],
   "source": [
    "model.fit(x_train, y_train, batch_size=16, epochs = 20, verbose=1, validation_data=(x_test, y_test))"
   ]
  },
  {
   "cell_type": "code",
   "execution_count": 17,
   "metadata": {},
   "outputs": [
    {
     "name": "stdout",
     "output_type": "stream",
     "text": [
      "875/875 [==============================] - 2s 2ms/step\n"
     ]
    }
   ],
   "source": [
    "df_test = pd.read_csv('test.csv')\n",
    "x_out = mm_scaler.transform(df_test.values)\n",
    "x_out_aux = x_out.reshape(-1, 28, 28)\n",
    "v_out = v_scaler.transform(np.sum(x_out_aux, axis=1))\n",
    "h_out = h_scaler.transform(np.sum(x_out_aux, axis=2))\n",
    "x_output = np.hstack([x_out, v_out, h_out])\n",
    "y_pred = np.argmax(model.predict(x_output), axis=1).reshape(-1, 1)"
   ]
  },
  {
   "cell_type": "code",
   "execution_count": 18,
   "metadata": {},
   "outputs": [
    {
     "name": "stdout",
     "output_type": "stream",
     "text": [
      "<bound method NDFrame.head of          Label\n",
      "ImageId       \n",
      "1            2\n",
      "2            0\n",
      "3            9\n",
      "4            0\n",
      "5            3\n",
      "...        ...\n",
      "27996        9\n",
      "27997        7\n",
      "27998        3\n",
      "27999        4\n",
      "28000        2\n",
      "\n",
      "[28000 rows x 1 columns]>\n"
     ]
    }
   ],
   "source": [
    "df = pd.DataFrame(y_pred, columns=['Label'])\n",
    "df.index += 1\n",
    "df = df.rename_axis('ImageId')\n",
    "print(df.head)"
   ]
  },
  {
   "cell_type": "code",
   "execution_count": 19,
   "metadata": {},
   "outputs": [],
   "source": [
    "df.to_csv('submission.csv')"
   ]
  }
 ],
 "metadata": {
  "kernelspec": {
   "display_name": "Python 3.8.10 64-bit",
   "language": "python",
   "name": "python3"
  },
  "language_info": {
   "codemirror_mode": {
    "name": "ipython",
    "version": 3
   },
   "file_extension": ".py",
   "mimetype": "text/x-python",
   "name": "python",
   "nbconvert_exporter": "python",
   "pygments_lexer": "ipython3",
   "version": "3.8.10"
  },
  "orig_nbformat": 4,
  "vscode": {
   "interpreter": {
    "hash": "916dbcbb3f70747c44a77c7bcd40155683ae19c65e1c03b4aa3499c5328201f1"
   }
  }
 },
 "nbformat": 4,
 "nbformat_minor": 2
}
