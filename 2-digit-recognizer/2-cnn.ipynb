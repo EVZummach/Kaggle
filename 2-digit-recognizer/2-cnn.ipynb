{
 "cells": [
  {
   "cell_type": "code",
   "execution_count": 1,
   "metadata": {},
   "outputs": [],
   "source": [
    "import os\n",
    "import numpy as np\n",
    "import pandas as pd\n",
    "import matplotlib.pyplot as plt"
   ]
  },
  {
   "cell_type": "code",
   "execution_count": 2,
   "metadata": {},
   "outputs": [
    {
     "name": "stdout",
     "output_type": "stream",
     "text": [
      "<class 'pandas.core.frame.DataFrame'>\n",
      "RangeIndex: 42000 entries, 0 to 41999\n",
      "Columns: 785 entries, label to pixel783\n",
      "dtypes: int64(785)\n",
      "memory usage: 251.5 MB\n"
     ]
    }
   ],
   "source": [
    "df_train = pd.read_csv(r'train.csv')\n",
    "df_train.info()"
   ]
  },
  {
   "cell_type": "code",
   "execution_count": 3,
   "metadata": {},
   "outputs": [],
   "source": [
    "from sklearn.preprocessing import MinMaxScaler\n",
    "mm_scaler = MinMaxScaler()\n",
    "\n",
    "\n",
    "x_input = df_train.drop(columns=['label']).values\n",
    "x = mm_scaler.fit_transform(x_input).reshape(-1, 28, 28)\n",
    "y = pd.get_dummies(df_train['label'])"
   ]
  },
  {
   "cell_type": "code",
   "execution_count": 4,
   "metadata": {},
   "outputs": [],
   "source": [
    "from sklearn.model_selection import train_test_split\n",
    "x_train, x_test, y_train, y_test = train_test_split(x, y, test_size=0.2)"
   ]
  },
  {
   "cell_type": "code",
   "execution_count": 16,
   "metadata": {},
   "outputs": [],
   "source": [
    "from keras.models import Sequential\n",
    "from keras.layers.core import Dense, Dropout, Flatten\n",
    "from keras.layers import BatchNormalization\n",
    "\n",
    "from keras.layers.convolutional import Conv2D, MaxPooling2D\n",
    "\n",
    "model = Sequential()\n",
    "model.add(Conv2D(64, (3, 3), input_shape=(28, 28, 1), activation='tanh'))\n",
    "model.add(MaxPooling2D((2, 2)))\n",
    "model.add(Dropout(0.2))\n",
    "model.add(Conv2D(64, (3, 3), activation='tanh'))\n",
    "model.add(MaxPooling2D((2, 2)))\n",
    "model.add(Dropout(0.2))\n",
    "model.add(Flatten())\n",
    "model.add(Dense(64, activation='tanh'))\n",
    "model.add(Dense(10, activation='softmax'))\n",
    "\n",
    "model.compile(optimizer='adam', loss='categorical_crossentropy', metrics=['accuracy'])"
   ]
  },
  {
   "cell_type": "code",
   "execution_count": 17,
   "metadata": {},
   "outputs": [
    {
     "name": "stdout",
     "output_type": "stream",
     "text": [
      "Epoch 1/15\n",
      "1050/1050 [==============================] - 42s 39ms/step - loss: 0.2064 - accuracy: 0.9392 - val_loss: 0.0849 - val_accuracy: 0.9751\n",
      "Epoch 2/15\n",
      "1050/1050 [==============================] - 47s 45ms/step - loss: 0.0676 - accuracy: 0.9798 - val_loss: 0.0622 - val_accuracy: 0.9813\n",
      "Epoch 3/15\n",
      "1050/1050 [==============================] - 52s 50ms/step - loss: 0.0531 - accuracy: 0.9833 - val_loss: 0.0576 - val_accuracy: 0.9831\n",
      "Epoch 4/15\n",
      "1050/1050 [==============================] - 44s 42ms/step - loss: 0.0389 - accuracy: 0.9884 - val_loss: 0.0493 - val_accuracy: 0.9843\n",
      "Epoch 5/15\n",
      "1050/1050 [==============================] - 48s 46ms/step - loss: 0.0346 - accuracy: 0.9896 - val_loss: 0.0452 - val_accuracy: 0.9862\n",
      "Epoch 6/15\n",
      "1050/1050 [==============================] - 43s 41ms/step - loss: 0.0302 - accuracy: 0.9908 - val_loss: 0.0466 - val_accuracy: 0.9852\n",
      "Epoch 7/15\n",
      "1050/1050 [==============================] - 45s 43ms/step - loss: 0.0291 - accuracy: 0.9904 - val_loss: 0.0453 - val_accuracy: 0.9869\n",
      "Epoch 8/15\n",
      "1050/1050 [==============================] - 38s 37ms/step - loss: 0.0259 - accuracy: 0.9916 - val_loss: 0.0489 - val_accuracy: 0.9845\n",
      "Epoch 9/15\n",
      "1050/1050 [==============================] - 40s 38ms/step - loss: 0.0251 - accuracy: 0.9918 - val_loss: 0.0491 - val_accuracy: 0.9857\n",
      "Epoch 10/15\n",
      "1050/1050 [==============================] - 39s 37ms/step - loss: 0.0212 - accuracy: 0.9927 - val_loss: 0.0481 - val_accuracy: 0.9858\n",
      "Epoch 11/15\n",
      "1050/1050 [==============================] - 39s 37ms/step - loss: 0.0190 - accuracy: 0.9939 - val_loss: 0.0457 - val_accuracy: 0.9875\n",
      "Epoch 12/15\n",
      "1050/1050 [==============================] - 39s 37ms/step - loss: 0.0208 - accuracy: 0.9929 - val_loss: 0.0502 - val_accuracy: 0.9846\n",
      "Epoch 13/15\n",
      "1050/1050 [==============================] - 39s 37ms/step - loss: 0.0194 - accuracy: 0.9939 - val_loss: 0.0470 - val_accuracy: 0.9865\n",
      "Epoch 14/15\n",
      "1050/1050 [==============================] - 39s 37ms/step - loss: 0.0177 - accuracy: 0.9940 - val_loss: 0.0483 - val_accuracy: 0.9861\n",
      "Epoch 15/15\n",
      "1050/1050 [==============================] - 40s 38ms/step - loss: 0.0168 - accuracy: 0.9943 - val_loss: 0.0445 - val_accuracy: 0.9880\n"
     ]
    },
    {
     "data": {
      "text/plain": [
       "<keras.callbacks.History at 0x7f69f55b1250>"
      ]
     },
     "execution_count": 17,
     "metadata": {},
     "output_type": "execute_result"
    }
   ],
   "source": [
    "model.fit(x_train, y_train, batch_size=32, epochs=15, validation_data=(x_test, y_test))"
   ]
  },
  {
   "cell_type": "code",
   "execution_count": 18,
   "metadata": {},
   "outputs": [
    {
     "name": "stdout",
     "output_type": "stream",
     "text": [
      "875/875 [==============================] - 7s 8ms/step\n"
     ]
    }
   ],
   "source": [
    "df_test = pd.read_csv('test.csv')\n",
    "\n",
    "x_out = df_test.values\n",
    "x_output = mm_scaler.fit_transform(x_out).reshape(-1, 28, 28)\n",
    "y_pred = np.argmax(model.predict(x_output), axis=1).reshape(-1, 1)"
   ]
  },
  {
   "cell_type": "code",
   "execution_count": 19,
   "metadata": {},
   "outputs": [
    {
     "name": "stdout",
     "output_type": "stream",
     "text": [
      "<bound method NDFrame.head of          Label\n",
      "ImageId       \n",
      "1            2\n",
      "2            0\n",
      "3            9\n",
      "4            0\n",
      "5            3\n",
      "...        ...\n",
      "27996        9\n",
      "27997        7\n",
      "27998        3\n",
      "27999        9\n",
      "28000        2\n",
      "\n",
      "[28000 rows x 1 columns]>\n"
     ]
    }
   ],
   "source": [
    "df = pd.DataFrame(y_pred, columns=['Label'])\n",
    "df.index += 1\n",
    "df = df.rename_axis('ImageId')\n",
    "print(df.head)"
   ]
  },
  {
   "cell_type": "code",
   "execution_count": 20,
   "metadata": {},
   "outputs": [],
   "source": [
    "df.to_csv('submission.csv')"
   ]
  }
 ],
 "metadata": {
  "kernelspec": {
   "display_name": "Python 3.8.10 64-bit",
   "language": "python",
   "name": "python3"
  },
  "language_info": {
   "codemirror_mode": {
    "name": "ipython",
    "version": 3
   },
   "file_extension": ".py",
   "mimetype": "text/x-python",
   "name": "python",
   "nbconvert_exporter": "python",
   "pygments_lexer": "ipython3",
   "version": "3.8.10"
  },
  "orig_nbformat": 4,
  "vscode": {
   "interpreter": {
    "hash": "916dbcbb3f70747c44a77c7bcd40155683ae19c65e1c03b4aa3499c5328201f1"
   }
  }
 },
 "nbformat": 4,
 "nbformat_minor": 2
}
