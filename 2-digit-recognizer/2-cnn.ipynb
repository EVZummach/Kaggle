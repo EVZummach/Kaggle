{
 "cells": [
  {
   "cell_type": "code",
   "execution_count": 2,
   "metadata": {},
   "outputs": [],
   "source": [
    "import os\n",
    "import numpy as np\n",
    "import pandas as pd\n",
    "import matplotlib.pyplot as plt"
   ]
  },
  {
   "cell_type": "code",
   "execution_count": 3,
   "metadata": {},
   "outputs": [
    {
     "name": "stdout",
     "output_type": "stream",
     "text": [
      "<class 'pandas.core.frame.DataFrame'>\n",
      "RangeIndex: 42000 entries, 0 to 41999\n",
      "Columns: 785 entries, label to pixel783\n",
      "dtypes: int64(785)\n",
      "memory usage: 251.5 MB\n"
     ]
    }
   ],
   "source": [
    "df_train = pd.read_csv(r'train.csv')\n",
    "df_train.info()"
   ]
  },
  {
   "cell_type": "code",
   "execution_count": 4,
   "metadata": {},
   "outputs": [],
   "source": [
    "from sklearn.preprocessing import MinMaxScaler\n",
    "mm_scaler = MinMaxScaler()\n",
    "\n",
    "\n",
    "x_input = df_train.drop(columns=['label']).values\n",
    "x = mm_scaler.fit_transform(x_input).reshape(-1, 28, 28)\n",
    "y = pd.get_dummies(df_train['label'])"
   ]
  },
  {
   "cell_type": "code",
   "execution_count": 7,
   "metadata": {},
   "outputs": [],
   "source": [
    "from sklearn.model_selection import train_test_split\n",
    "x_train, x_test, y_train, y_test = train_test_split(x, y, test_size=0.2)"
   ]
  },
  {
   "cell_type": "code",
   "execution_count": 12,
   "metadata": {},
   "outputs": [],
   "source": [
    "from keras.models import Sequential\n",
    "from keras.layers.core import Dense, Dropout, Flatten\n",
    "from keras.layers import BatchNormalization\n",
    "\n",
    "from keras.layers.convolutional import Conv2D, MaxPooling2D\n",
    "\n",
    "model = Sequential()\n",
    "model.add(Conv2D(32, (3, 3), input_shape=(28, 28, 1), activation='relu'))\n",
    "model.add(MaxPooling2D((2, 2)))\n",
    "model.add(Dropout(0.2))\n",
    "model.add(Conv2D(32, (3, 3), activation='relu'))\n",
    "model.add(MaxPooling2D((2, 2)))\n",
    "model.add(Dropout(0.2))\n",
    "model.add(Flatten())\n",
    "model.add(Dense(64, activation='tanh'))\n",
    "model.add(Dense(10, activation='softmax'))\n",
    "\n",
    "model.compile(optimizer='adam', loss='categorical_crossentropy', metrics=['accuracy'])"
   ]
  },
  {
   "cell_type": "code",
   "execution_count": 14,
   "metadata": {},
   "outputs": [
    {
     "name": "stdout",
     "output_type": "stream",
     "text": [
      "Epoch 1/15\n"
     ]
    },
    {
     "name": "stderr",
     "output_type": "stream",
     "text": [
      "2022-08-21 17:31:41.715097: W tensorflow/core/framework/cpu_allocator_impl.cc:82] Allocation of 105369600 exceeds 10% of free system memory.\n"
     ]
    },
    {
     "name": "stdout",
     "output_type": "stream",
     "text": [
      "1050/1050 [==============================] - 20s 19ms/step - loss: 0.2483 - accuracy: 0.9254 - val_loss: 0.0812 - val_accuracy: 0.9754\n",
      "Epoch 2/15\n",
      "1050/1050 [==============================] - 21s 20ms/step - loss: 0.0814 - accuracy: 0.9755 - val_loss: 0.0638 - val_accuracy: 0.9806\n",
      "Epoch 3/15\n",
      "1050/1050 [==============================] - 20s 19ms/step - loss: 0.0613 - accuracy: 0.9803 - val_loss: 0.0457 - val_accuracy: 0.9857\n",
      "Epoch 4/15\n",
      "1050/1050 [==============================] - 21s 20ms/step - loss: 0.0479 - accuracy: 0.9845 - val_loss: 0.0395 - val_accuracy: 0.9889\n",
      "Epoch 5/15\n",
      "1050/1050 [==============================] - 24s 23ms/step - loss: 0.0408 - accuracy: 0.9870 - val_loss: 0.0405 - val_accuracy: 0.9880\n",
      "Epoch 6/15\n",
      "1050/1050 [==============================] - 21s 20ms/step - loss: 0.0336 - accuracy: 0.9896 - val_loss: 0.0414 - val_accuracy: 0.9883\n",
      "Epoch 7/15\n",
      "1050/1050 [==============================] - 21s 20ms/step - loss: 0.0301 - accuracy: 0.9901 - val_loss: 0.0424 - val_accuracy: 0.9883\n",
      "Epoch 8/15\n",
      "1050/1050 [==============================] - 22s 21ms/step - loss: 0.0288 - accuracy: 0.9912 - val_loss: 0.0418 - val_accuracy: 0.9882\n",
      "Epoch 9/15\n",
      "1050/1050 [==============================] - 25s 24ms/step - loss: 0.0233 - accuracy: 0.9923 - val_loss: 0.0374 - val_accuracy: 0.9896\n",
      "Epoch 10/15\n",
      "1050/1050 [==============================] - 35s 33ms/step - loss: 0.0213 - accuracy: 0.9930 - val_loss: 0.0398 - val_accuracy: 0.9890\n",
      "Epoch 11/15\n",
      "1050/1050 [==============================] - 26s 24ms/step - loss: 0.0199 - accuracy: 0.9935 - val_loss: 0.0416 - val_accuracy: 0.9882\n",
      "Epoch 12/15\n",
      "1050/1050 [==============================] - 30s 29ms/step - loss: 0.0189 - accuracy: 0.9938 - val_loss: 0.0373 - val_accuracy: 0.9902\n",
      "Epoch 13/15\n",
      "1050/1050 [==============================] - 27s 25ms/step - loss: 0.0186 - accuracy: 0.9936 - val_loss: 0.0335 - val_accuracy: 0.9904\n",
      "Epoch 14/15\n",
      "1050/1050 [==============================] - 26s 25ms/step - loss: 0.0160 - accuracy: 0.9950 - val_loss: 0.0381 - val_accuracy: 0.9900\n",
      "Epoch 15/15\n",
      "1050/1050 [==============================] - 27s 26ms/step - loss: 0.0158 - accuracy: 0.9948 - val_loss: 0.0362 - val_accuracy: 0.9901\n"
     ]
    },
    {
     "data": {
      "text/plain": [
       "<keras.callbacks.History at 0x7f8fa00c3ac0>"
      ]
     },
     "execution_count": 14,
     "metadata": {},
     "output_type": "execute_result"
    }
   ],
   "source": [
    "model.fit(x_train, y_train, batch_size=32, epochs=15, validation_data=(x_test, y_test))"
   ]
  },
  {
   "cell_type": "code",
   "execution_count": null,
   "metadata": {},
   "outputs": [],
   "source": [
    "df_test = pd.read_csv('test.csv')\n",
    "\n",
    "x_out = df_test.values\n",
    "x_output = mm_scaler.fit_transform(x_input).reshape(-1, 28, 28)\n",
    "y_pred = pd.get_dummies(df_test)\n",
    "\n",
    "\n",
    "x_out = mm_scaler.transform(df_test.values)\n",
    "x_out_aux = x_out.reshape(-1, 28, 28)\n",
    "x_output = np.hstack([x_out, v_out, h_out])\n",
    "y_pred = np.argmax(model.predict(x_output), axis=1).reshape(-1, 1)"
   ]
  }
 ],
 "metadata": {
  "kernelspec": {
   "display_name": "Python 3.8.10 64-bit",
   "language": "python",
   "name": "python3"
  },
  "language_info": {
   "codemirror_mode": {
    "name": "ipython",
    "version": 3
   },
   "file_extension": ".py",
   "mimetype": "text/x-python",
   "name": "python",
   "nbconvert_exporter": "python",
   "pygments_lexer": "ipython3",
   "version": "3.8.10"
  },
  "orig_nbformat": 4,
  "vscode": {
   "interpreter": {
    "hash": "916dbcbb3f70747c44a77c7bcd40155683ae19c65e1c03b4aa3499c5328201f1"
   }
  }
 },
 "nbformat": 4,
 "nbformat_minor": 2
}
